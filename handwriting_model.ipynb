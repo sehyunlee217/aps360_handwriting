{
 "cells": [
  {
   "cell_type": "code",
   "execution_count": 10,
   "metadata": {},
   "outputs": [
    {
     "name": "stdout",
     "output_type": "stream",
     "text": [
      "10000\n",
      "2000\n",
      "3000\n"
     ]
    }
   ],
   "source": [
    "import pathlib, os\n",
    "from pathlib import Path\n",
    "\n",
    "print(len(os.listdir('handwriting_dataset/train')))\n",
    "print(len(os.listdir('handwriting_dataset/test')))\n",
    "print(len(os.listdir('handwriting_dataset/validation')))\n"
   ]
  }
 ],
 "metadata": {
  "kernelspec": {
   "display_name": "Python 3",
   "language": "python",
   "name": "python3"
  },
  "language_info": {
   "codemirror_mode": {
    "name": "ipython",
    "version": 3
   },
   "file_extension": ".py",
   "mimetype": "text/x-python",
   "name": "python",
   "nbconvert_exporter": "python",
   "pygments_lexer": "ipython3",
   "version": "3.12.4"
  }
 },
 "nbformat": 4,
 "nbformat_minor": 2
}
